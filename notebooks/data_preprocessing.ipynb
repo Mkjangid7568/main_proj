{
 "cells": [
  {
   "cell_type": "code",
   "execution_count": 16,
   "id": "c915d3bd",
   "metadata": {},
   "outputs": [],
   "source": [
    "import pandas as pd"
   ]
  },
  {
   "cell_type": "code",
   "execution_count": 17,
   "id": "f6505a88",
   "metadata": {},
   "outputs": [],
   "source": [
    "import pandas as pd\n",
    "import numpy as np\n",
    "import matplotlib.pyplot as plt\n",
    "import seaborn as sns\n",
    "import sys\n",
    "import os\n"
   ]
  },
  {
   "cell_type": "code",
   "execution_count": 25,
   "id": "2d09e3c6",
   "metadata": {},
   "outputs": [],
   "source": [
    "\n",
    "customers = pd.read_csv(\"../dataset/olist_customers_dataset.csv\")\n",
    "orders = pd.read_csv(\"../dataset/olist_orders_dataset.csv\")\n",
    "order_items = pd.read_csv(\"../dataset/olist_order_items_dataset.csv\")\n",
    "products = pd.read_csv(\"../dataset/olist_products_dataset.csv\")\n",
    "payments = pd.read_csv(\"../dataset/olist_order_payments_dataset.csv\")\n"
   ]
  },
  {
   "cell_type": "code",
   "execution_count": 26,
   "id": "39e407d5",
   "metadata": {},
   "outputs": [],
   "source": [
    "df = orders.merge(customers, on='customer_id', how='left') \\\n",
    "          .merge(order_items, on='order_id', how='left') \\\n",
    "            .merge(products, on='product_id', how='left') \\\n",
    "            .merge(payments, on='order_id', how='left')\n"
   ]
  },
  {
   "cell_type": "code",
   "execution_count": 27,
   "id": "c51dde1c",
   "metadata": {},
   "outputs": [],
   "source": [
    "df.drop(['order_approved_at', 'order_delivered_carrier_date', 'order_delivered_customer_date',\n",
    "         'order_estimated_delivery_date', 'customer_zip_code_prefix',\n",
    "         'customer_city', 'customer_state', 'shipping_limit_date',\n",
    "         'product_name_lenght', 'product_description_lenght',\n",
    "         'product_photos_qty', 'product_weight_g', 'product_length_cm',\n",
    "         'product_height_cm', 'product_width_cm'], axis=1, inplace=True)"
   ]
  },
  {
   "cell_type": "code",
   "execution_count": 28,
   "id": "7250eedb",
   "metadata": {},
   "outputs": [],
   "source": [
    "df.dropna(inplace=True)"
   ]
  },
  {
   "cell_type": "code",
   "execution_count": 32,
   "id": "93201ce5",
   "metadata": {},
   "outputs": [],
   "source": [
    "customer_df = df.groupby('customer_unique_id').agg({\n",
    "    'payment_value': ['sum', 'mean'],\n",
    "    'product_id': 'count',\n",
    "    'product_category_name': pd.Series.nunique\n",
    "}).reset_index()"
   ]
  },
  {
   "cell_type": "code",
   "execution_count": 33,
   "id": "24e9c474",
   "metadata": {},
   "outputs": [],
   "source": [
    "customer_df.columns = ['customer_id','total_spent','avg_spent','total_orders','unique_categories']"
   ]
  },
  {
   "cell_type": "code",
   "execution_count": 34,
   "id": "98b4daa5",
   "metadata": {},
   "outputs": [],
   "source": [
    "output_path = \"../dataset/processed_customer_data.csv\"\n",
    "customer_df.to_csv(output_path, index=False)"
   ]
  },
  {
   "cell_type": "code",
   "execution_count": null,
   "id": "825ce4a1",
   "metadata": {},
   "outputs": [],
   "source": []
  }
 ],
 "metadata": {
  "kernelspec": {
   "display_name": "base",
   "language": "python",
   "name": "python3"
  },
  "language_info": {
   "codemirror_mode": {
    "name": "ipython",
    "version": 3
   },
   "file_extension": ".py",
   "mimetype": "text/x-python",
   "name": "python",
   "nbconvert_exporter": "python",
   "pygments_lexer": "ipython3",
   "version": "3.13.5"
  }
 },
 "nbformat": 4,
 "nbformat_minor": 5
}
